{
 "cells": [
  {
   "cell_type": "code",
   "execution_count": 1,
   "metadata": {},
   "outputs": [],
   "source": [
    "import scipy.sparse as sparse\n",
    "import scipy.io as sio\n",
    "import scipy.stats as stats\n",
    "import numpy as np\n",
    "import networkx as nx\n",
    "import matplotlib.pyplot as plt\n",
    "from time import time\n",
    "# own code\n",
    "import graph_tools as gtl\n",
    "import invarients as inva\n",
    "import cpp"
   ]
  },
  {
   "cell_type": "code",
   "execution_count": 2,
   "metadata": {},
   "outputs": [],
   "source": [
    "G = gtl.read_graph_from_edgelist(\"networks-random/brain274/bn-mouse_brain_1.edges\")\n"
   ]
  },
  {
   "cell_type": "code",
   "execution_count": 3,
   "metadata": {},
   "outputs": [],
   "source": [
    "start = time()\n",
    "inva.q_extent_single(3,G)\n",
    "end = time()\n",
    "clock = end-start\n",
    "print(clock)"
   ]
  },
  {
   "cell_type": "code",
   "execution_count": 8,
   "metadata": {},
   "outputs": [
    {
     "name": "stdout",
     "output_type": "stream",
     "text": [
      "0.5468525886535645\n"
     ]
    }
   ],
   "source": [
    "start = time()\n",
    "\n",
    "\n",
    "dists = gtl.convert_dist_dict_to_narray(dict(nx.all_pairs_dijkstra_path_length(G)),list(G.nodes))\n",
    "# cpp.q_extend_single()\n",
    "\n",
    "end = time()\n",
    "clock  = end -start\n",
    "print(clock)\n",
    "\n",
    "cpp.q_extend_single(dists, 3)"
   ]
  }
 ],
 "metadata": {
  "kernelspec": {
   "display_name": "Python 3",
   "language": "python",
   "name": "python3"
  },
  "language_info": {
   "codemirror_mode": {
    "name": "ipython",
    "version": 3
   },
   "file_extension": ".py",
   "mimetype": "text/x-python",
   "name": "python",
   "nbconvert_exporter": "python",
   "pygments_lexer": "ipython3",
   "version": "3.11.4"
  },
  "orig_nbformat": 4
 },
 "nbformat": 4,
 "nbformat_minor": 2
}
