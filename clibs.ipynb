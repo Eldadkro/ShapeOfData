{
 "cells": [
  {
   "cell_type": "code",
   "execution_count": 1,
   "metadata": {},
   "outputs": [],
   "source": [
    "import scipy.sparse as sparse\n",
    "import scipy.io as sio\n",
    "import scipy.stats as stats\n",
    "import numpy as np\n",
    "import networkx as nx\n",
    "import matplotlib.pyplot as plt\n",
    "from time import time\n",
    "import pandas as pd\n",
    "# own code\n",
    "import libarary.graph_tools as gtl\n",
    "import libarary.invarients as inva\n",
    "import libarary.cpp as cpp"
   ]
  },
  {
   "cell_type": "code",
   "execution_count": null,
   "metadata": {},
   "outputs": [],
   "source": []
  },
  {
   "cell_type": "code",
   "execution_count": 2,
   "metadata": {},
   "outputs": [],
   "source": [
    "def test(G: nx.Graph):\n",
    "    clocks = []\n",
    "    start = time()\n",
    "    dists = gtl.convert_dist_dict_to_narray(\n",
    "        dict(nx.all_pairs_dijkstra_path_length(G)), list(G.nodes)\n",
    "    )\n",
    "    end = time()\n",
    "    clocks.append(end - start)\n",
    "    print(\"clock convert: \", clocks[-1])\n",
    "    start = time()\n",
    "    q_extend3 = cpp.q_extend_single(dists, 3)\n",
    "    end = time()\n",
    "    clocks.append(end - start)\n",
    "    print(\"clock q_extend3: \", clocks[-1], q_extend3)\n",
    "    start = time()\n",
    "    excess = cpp.excess_global_single(dists)\n",
    "    end = time()\n",
    "    clocks.append(end - start)\n",
    "    print(\"clock excess_global: \", clocks[-1], excess)\n",
    "    start = time()\n",
    "    q_packing3 = cpp.q_packing_single(dists, 3)\n",
    "    end = time()\n",
    "    clocks.append(end - start)\n",
    "    print(\"clock q_packing: \", clocks[-1], q_packing3)\n",
    "\n",
    "    res = {\n",
    "        \"|V|\": G.number_of_nodes(),\n",
    "        \"q-extend3\": q_extend3,\n",
    "        \"excess-global\": excess,\n",
    "        \"q-packing3\": q_packing3,\n",
    "    }\n",
    "    return res\n",
    "\n",
    "\n",
    "res = {}\n"
   ]
  },
  {
   "cell_type": "markdown",
   "metadata": {},
   "source": [
    "# mouse brain"
   ]
  },
  {
   "cell_type": "code",
   "execution_count": 3,
   "metadata": {},
   "outputs": [
    {
     "name": "stdout",
     "output_type": "stream",
     "text": [
      "number of nodes:  213\n",
      "clock convert:  0.5511531829833984\n",
      "clock q_extend3 single:  0.8245596885681152 0.0001771636105943839\n"
     ]
    }
   ],
   "source": [
    "G = gtl.read_graph_from_edgelist(\"networks-random/brain274/bn-mouse_brain_1.edges\")\n",
    "print(\"number of nodes: \", G.number_of_nodes())\n",
    "\n",
    "clocks = []\n",
    "start = time()\n",
    "dists = gtl.convert_dist_dict_to_narray(\n",
    "    dict(nx.all_pairs_dijkstra_path_length(G)), list(G.nodes)\n",
    ")\n",
    "end = time()\n",
    "clocks.append(end - start)\n",
    "print(\"clock convert: \", clocks[-1])\n",
    "start = time()\n",
    "q_extend3 = cpp.q_extend_single(dists, 3)\n",
    "end = time()\n",
    "clocks.append(end - start)\n",
    "print(\"clock q_extend3 single: \", clocks[-1], q_extend3)\n"
   ]
  },
  {
   "cell_type": "code",
   "execution_count": 4,
   "metadata": {},
   "outputs": [
    {
     "name": "stdout",
     "output_type": "stream",
     "text": [
      "clock q_extend3 multi:  0.05719137191772461 0.0001771636105943839\n"
     ]
    }
   ],
   "source": [
    "\n",
    "start = time()\n",
    "q_extend3 = cpp.q_extend_multi(dists, 3)\n",
    "end = time()\n",
    "clocks.append(end - start)\n",
    "print(\"clock q_extend3 multi: \", clocks[-1], q_extend3)"
   ]
  },
  {
   "cell_type": "markdown",
   "metadata": {},
   "source": [
    "# aves social"
   ]
  },
  {
   "cell_type": "code",
   "execution_count": 5,
   "metadata": {},
   "outputs": [
    {
     "name": "stdout",
     "output_type": "stream",
     "text": [
      "202\n",
      "clock convert:  0.16045832633972168\n",
      "clock q_extend3:  0.6924483776092529 0.0003940692576720359\n",
      "clock excess_global:  0.26055407524108887 7.0\n",
      "clock q_packing:  0.7035162448883057 0.5\n",
      "clock convert:  0.5446383953094482\n",
      "clock q_extend3 multi:  0.052374839782714844 0.0001771636105943839\n"
     ]
    }
   ],
   "source": [
    "g1 = gtl.read_graph_from_edgelist(\n",
    "    \"networks-random/aves-wildbirds/aves-wildbird-network.edges\"\n",
    ")\n",
    "print(g1.number_of_nodes())\n",
    "res[\"aves\"] = test(g1)\n",
    "\n",
    "clocks = []\n",
    "start = time()\n",
    "\n",
    "end = time()\n",
    "clocks.append(end - start)\n",
    "print(\"clock convert: \", clocks[-1])\n",
    "\n"
   ]
  },
  {
   "cell_type": "markdown",
   "metadata": {},
   "source": [
    "# Mammalia social connections"
   ]
  },
  {
   "cell_type": "code",
   "execution_count": 7,
   "metadata": {},
   "outputs": [
    {
     "name": "stdout",
     "output_type": "stream",
     "text": [
      "number of nodes:  1686\n",
      "clock q_extend3 multi:  29.003262758255005 2.1119993241602164e-05\n"
     ]
    }
   ],
   "source": [
    "G = gtl.read_graph_from_edgelist(\n",
    "    \"networks-random/memalia-big/mammalia-voles-bhp-trapping.edges\"\n",
    ")\n",
    "print(\"number of nodes: \", G.number_of_nodes())\n",
    "start = time()\n",
    "dists = gtl.convert_dist_dict_to_narray(\n",
    "    dict(nx.all_pairs_dijkstra_path_length(G)), list(G.nodes)\n",
    ")\n",
    "q_extend3 = cpp.q_extend_multi(dists, 3)\n",
    "end = time()\n",
    "clocks.append(end - start)\n",
    "print(\"clock q_extend3 multi: \", end-start, q_extend3)\n",
    "# res[\"Mammalia social\"] = test(g2)\n"
   ]
  },
  {
   "cell_type": "markdown",
   "metadata": {},
   "source": [
    "# Power Eris"
   ]
  },
  {
   "cell_type": "code",
   "execution_count": 8,
   "metadata": {},
   "outputs": [
    {
     "name": "stdout",
     "output_type": "stream",
     "text": [
      "number of nodes:  1176\n"
     ]
    }
   ],
   "source": [
    "mm = sio.mmread(\"networks1/power/power-eris1176.mtx\")\n",
    "g3: nx.Graph = nx.from_scipy_sparse_array(mm)\n",
    "\n",
    "print(\"number of nodes: \", g3.number_of_nodes())\n",
    "\n",
    "# res[\"power-eris\"] = test(g3)\n"
   ]
  },
  {
   "cell_type": "code",
   "execution_count": 10,
   "metadata": {},
   "outputs": [],
   "source": [
    "G = g3\n",
    "start = time()\n",
    "dists = gtl.convert_dist_dict_to_narray(\n",
    "    dict(nx.all_pairs_dijkstra_path_length(G)), list(G.nodes)\n",
    ")\n",
    "q_extend3 = cpp.q_extend_multi(dists, 5)\n",
    "end = time()\n",
    "clocks.append(end - start)\n",
    "print(\"clock q_extend3 multi: \", end-start, q_extend3)"
   ]
  },
  {
   "cell_type": "markdown",
   "metadata": {},
   "source": [
    "# Results"
   ]
  },
  {
   "cell_type": "code",
   "execution_count": 8,
   "metadata": {},
   "outputs": [
    {
     "data": {
      "text/html": [
       "<div>\n",
       "<style scoped>\n",
       "    .dataframe tbody tr th:only-of-type {\n",
       "        vertical-align: middle;\n",
       "    }\n",
       "\n",
       "    .dataframe tbody tr th {\n",
       "        vertical-align: top;\n",
       "    }\n",
       "\n",
       "    .dataframe thead th {\n",
       "        text-align: right;\n",
       "    }\n",
       "</style>\n",
       "<table border=\"1\" class=\"dataframe\">\n",
       "  <thead>\n",
       "    <tr style=\"text-align: right;\">\n",
       "      <th></th>\n",
       "      <th>mouse-brain</th>\n",
       "      <th>aves</th>\n",
       "      <th>Mammalia social</th>\n",
       "      <th>power-eris</th>\n",
       "    </tr>\n",
       "  </thead>\n",
       "  <tbody>\n",
       "    <tr>\n",
       "      <th>|V|</th>\n",
       "      <td>213.000000</td>\n",
       "      <td>202.000000</td>\n",
       "      <td>1686.000000</td>\n",
       "      <td>1176.000000</td>\n",
       "    </tr>\n",
       "    <tr>\n",
       "      <th>q-extend3</th>\n",
       "      <td>0.000177</td>\n",
       "      <td>0.000394</td>\n",
       "      <td>0.000021</td>\n",
       "      <td>0.000153</td>\n",
       "    </tr>\n",
       "    <tr>\n",
       "      <th>excess-global</th>\n",
       "      <td>3.000000</td>\n",
       "      <td>7.000000</td>\n",
       "      <td>28.000000</td>\n",
       "      <td>105.000000</td>\n",
       "    </tr>\n",
       "    <tr>\n",
       "      <th>q-packing3</th>\n",
       "      <td>1.000000</td>\n",
       "      <td>0.500000</td>\n",
       "      <td>0.500000</td>\n",
       "      <td>1.000000</td>\n",
       "    </tr>\n",
       "  </tbody>\n",
       "</table>\n",
       "</div>"
      ],
      "text/plain": [
       "               mouse-brain        aves  Mammalia social   power-eris\n",
       "|V|             213.000000  202.000000      1686.000000  1176.000000\n",
       "q-extend3         0.000177    0.000394         0.000021     0.000153\n",
       "excess-global     3.000000    7.000000        28.000000   105.000000\n",
       "q-packing3        1.000000    0.500000         0.500000     1.000000"
      ]
     },
     "execution_count": 8,
     "metadata": {},
     "output_type": "execute_result"
    }
   ],
   "source": [
    "ds = pd.DataFrame(res)\n",
    "ds.to_csv(\"results/first-results.csv\")\n",
    "ds"
   ]
  }
 ],
 "metadata": {
  "kernelspec": {
   "display_name": "Python 3",
   "language": "python",
   "name": "python3"
  },
  "language_info": {
   "codemirror_mode": {
    "name": "ipython",
    "version": 3
   },
   "file_extension": ".py",
   "mimetype": "text/x-python",
   "name": "python",
   "nbconvert_exporter": "python",
   "pygments_lexer": "ipython3",
   "version": "3.11.4"
  },
  "orig_nbformat": 4
 },
 "nbformat": 4,
 "nbformat_minor": 2
}
