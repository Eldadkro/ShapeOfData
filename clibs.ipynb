{
 "cells": [
  {
   "cell_type": "code",
   "execution_count": 4,
   "metadata": {},
   "outputs": [],
   "source": [
    "import scipy.sparse as sparse\n",
    "import scipy.io as sio\n",
    "import scipy.stats as stats\n",
    "import numpy as np\n",
    "import networkx as nx\n",
    "import matplotlib.pyplot as plt\n",
    "from time import time\n",
    "# own code\n",
    "import libarary.graph_tools as gtl\n",
    "import libarary.invarients as inva\n",
    "import libarary.cpp as cpp"
   ]
  },
  {
   "cell_type": "code",
   "execution_count": 5,
   "metadata": {},
   "outputs": [
    {
     "name": "stdout",
     "output_type": "stream",
     "text": [
      "hello world\n"
     ]
    }
   ],
   "source": [
    "cpp.test()"
   ]
  },
  {
   "cell_type": "code",
   "execution_count": 6,
   "metadata": {},
   "outputs": [],
   "source": [
    "G = gtl.read_graph_from_edgelist(\"networks-random/brain274/bn-mouse_brain_1.edges\")\n"
   ]
  },
  {
   "cell_type": "code",
   "execution_count": 7,
   "metadata": {},
   "outputs": [
    {
     "name": "stdout",
     "output_type": "stream",
     "text": [
      "time:  2.630380153656006\n",
      "results:  0.0001771636105943839\n"
     ]
    }
   ],
   "source": [
    "start = time()\n",
    "res = inva.q_extent_single(3,G)\n",
    "end = time()\n",
    "clock = end-start\n",
    "print(\"time: \",clock)\n",
    "print(\"results: \",res)"
   ]
  },
  {
   "cell_type": "code",
   "execution_count": 8,
   "metadata": {},
   "outputs": [
    {
     "name": "stdout",
     "output_type": "stream",
     "text": [
      "0.547663688659668\n"
     ]
    }
   ],
   "source": [
    "start = time()\n",
    "\n",
    "\n",
    "dists = gtl.convert_dist_dict_to_narray(dict(nx.all_pairs_dijkstra_path_length(G)),list(G.nodes))\n",
    "# cpp.q_extend_single()\n",
    "end = time()\n",
    "clock  = end -start\n",
    "print(clock)"
   ]
  },
  {
   "cell_type": "code",
   "execution_count": 9,
   "metadata": {},
   "outputs": [
    {
     "name": "stdout",
     "output_type": "stream",
     "text": [
      "results:  1.4079995494401442e-06\n",
      "time:  2.5852622985839844\n"
     ]
    }
   ],
   "source": [
    "G = gtl.read_graph_from_edgelist(\n",
    "        \"networks-random/memalia-big/mammalia-voles-bhp-trapping.edges\"\n",
    "    )\n",
    "start = time()\n",
    "dists = gtl.convert_dist_dict_to_narray(dict(nx.all_pairs_dijkstra_path_length(G)),list(G.nodes))\n",
    "res= cpp.q_extend_single(dists, 3)\n",
    "end = time()\n",
    "print(\"results: \", res)\n",
    "print(\"time: \", end-start)\n"
   ]
  }
 ],
 "metadata": {
  "kernelspec": {
   "display_name": "Python 3",
   "language": "python",
   "name": "python3"
  },
  "language_info": {
   "codemirror_mode": {
    "name": "ipython",
    "version": 3
   },
   "file_extension": ".py",
   "mimetype": "text/x-python",
   "name": "python",
   "nbconvert_exporter": "python",
   "pygments_lexer": "ipython3",
   "version": "3.11.4"
  },
  "orig_nbformat": 4
 },
 "nbformat": 4,
 "nbformat_minor": 2
}
