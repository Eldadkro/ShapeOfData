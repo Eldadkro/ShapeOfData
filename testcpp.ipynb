{
 "cells": [
  {
   "cell_type": "code",
   "execution_count": 18,
   "metadata": {},
   "outputs": [],
   "source": [
    "import scipy.sparse as sparse\n",
    "import scipy.io as sio\n",
    "import scipy.stats as stats\n",
    "import numpy as np\n",
    "import networkx as nx\n",
    "import matplotlib.pyplot as plt\n",
    "from time import time\n",
    "import pandas as pd\n",
    "# own code\n",
    "import libarary.graph_tools as gtl\n",
    "import libarary.invarients as inva\n",
    "import libarary.cpp as cpp\n"
   ]
  },
  {
   "cell_type": "code",
   "execution_count": 19,
   "metadata": {},
   "outputs": [],
   "source": [
    "def test(G:nx.Graph):\n",
    "    clocks = []\n",
    "    start = time()\n",
    "    dists = gtl.convert_dist_dict_to_narray(dict(nx.all_pairs_dijkstra_path_length(G)),list(G.nodes))\n",
    "    end = time()\n",
    "    clocks.append(end -start)\n",
    "    print(\"clock convert: \", clocks[-1])\n",
    "    start = time()\n",
    "    q_extend3 = cpp.q_extend_single(dists,3)\n",
    "    end = time()\n",
    "    clocks.append(end -start)\n",
    "    print(\"clock q_extend3: \", clocks[-1])\n",
    "    start = time()\n",
    "    excess = cpp.excess_global_single(dists)\n",
    "    end = time()\n",
    "    clocks.append(end -start)\n",
    "    print(\"clock excess_global: \", clocks[-1])\n",
    "    start = time()\n",
    "    q_packing3 = cpp.q_packing_single(dists,3)\n",
    "    end = time()\n",
    "    clocks.append(end -start)\n",
    "    print(\"clock q_packing: \", clocks[-1])\n",
    "\n",
    "    res = {\n",
    "        \"q-extend3\" : q_extend3,\n",
    "        \"excess-global\" : excess,\n",
    "        \"q-packing3\" : q_packing3\n",
    "    }\n",
    "    return res\n",
    "\n",
    "res = {}"
   ]
  },
  {
   "cell_type": "code",
   "execution_count": 20,
   "metadata": {},
   "outputs": [
    {
     "name": "stdout",
     "output_type": "stream",
     "text": [
      "202\n",
      "clock convert:  0.16141390800476074\n",
      "clock q_extend3:  0.45658230781555176\n",
      "clock excess_global:  0.26144981384277344\n",
      "clock q_packing:  0.46903109550476074\n"
     ]
    }
   ],
   "source": [
    "g1 = gtl.read_graph_from_edgelist(\"networks-random/aves-wildbirds/aves-wildbird-network.edges\")\n",
    "print(g1.number_of_nodes())\n",
    "res[\"aves\"] = test(g1)"
   ]
  },
  {
   "cell_type": "code",
   "execution_count": 21,
   "metadata": {},
   "outputs": [
    {
     "name": "stdout",
     "output_type": "stream",
     "text": [
      "213\n",
      "clock convert:  0.545447587966919\n",
      "clock q_extend3:  0.5374083518981934\n",
      "clock excess_global:  0.30484890937805176\n",
      "clock q_packing:  0.5496001243591309\n"
     ]
    }
   ],
   "source": [
    "g2 = gtl.read_graph_from_edgelist(\"networks-random/brain274/bn-mouse_brain_1.edges\")\n",
    "print(g2.number_of_nodes())\n",
    "res[\"mouse-brain\"] = test(g2)"
   ]
  },
  {
   "cell_type": "code",
   "execution_count": 23,
   "metadata": {},
   "outputs": [
    {
     "name": "stdout",
     "output_type": "stream",
     "text": [
      "{'aves': {'q-extend3': 0.0003940692576720359, 'excess-global': 7.0, 'q-packing3': 0.5}, 'mouse-brain': {'q-extend3': 0.0001771636105943839, 'excess-global': 3.0, 'q-packing3': 1.0}}\n"
     ]
    }
   ],
   "source": [
    "print(res)\n",
    "df = pd.DataFrame(res)"
   ]
  },
  {
   "cell_type": "code",
   "execution_count": 24,
   "metadata": {},
   "outputs": [
    {
     "data": {
      "text/html": [
       "<div>\n",
       "<style scoped>\n",
       "    .dataframe tbody tr th:only-of-type {\n",
       "        vertical-align: middle;\n",
       "    }\n",
       "\n",
       "    .dataframe tbody tr th {\n",
       "        vertical-align: top;\n",
       "    }\n",
       "\n",
       "    .dataframe thead th {\n",
       "        text-align: right;\n",
       "    }\n",
       "</style>\n",
       "<table border=\"1\" class=\"dataframe\">\n",
       "  <thead>\n",
       "    <tr style=\"text-align: right;\">\n",
       "      <th></th>\n",
       "      <th>aves</th>\n",
       "      <th>mouse-brain</th>\n",
       "    </tr>\n",
       "  </thead>\n",
       "  <tbody>\n",
       "    <tr>\n",
       "      <th>q-extend3</th>\n",
       "      <td>0.000394</td>\n",
       "      <td>0.000177</td>\n",
       "    </tr>\n",
       "    <tr>\n",
       "      <th>excess-global</th>\n",
       "      <td>7.000000</td>\n",
       "      <td>3.000000</td>\n",
       "    </tr>\n",
       "    <tr>\n",
       "      <th>q-packing3</th>\n",
       "      <td>0.500000</td>\n",
       "      <td>1.000000</td>\n",
       "    </tr>\n",
       "  </tbody>\n",
       "</table>\n",
       "</div>"
      ],
      "text/plain": [
       "                   aves  mouse-brain\n",
       "q-extend3      0.000394     0.000177\n",
       "excess-global  7.000000     3.000000\n",
       "q-packing3     0.500000     1.000000"
      ]
     },
     "execution_count": 24,
     "metadata": {},
     "output_type": "execute_result"
    }
   ],
   "source": [
    "df"
   ]
  },
  {
   "cell_type": "code",
   "execution_count": 5,
   "metadata": {},
   "outputs": [
    {
     "data": {
      "text/plain": [
       "True"
      ]
     },
     "execution_count": 5,
     "metadata": {},
     "output_type": "execute_result"
    }
   ],
   "source": [
    "import math\n",
    "\n",
    "2**65 - 1 > math.perm(1176,5)"
   ]
  }
 ],
 "metadata": {
  "kernelspec": {
   "display_name": "Python 3",
   "language": "python",
   "name": "python3"
  },
  "language_info": {
   "codemirror_mode": {
    "name": "ipython",
    "version": 3
   },
   "file_extension": ".py",
   "mimetype": "text/x-python",
   "name": "python",
   "nbconvert_exporter": "python",
   "pygments_lexer": "ipython3",
   "version": "3.11.4"
  },
  "orig_nbformat": 4
 },
 "nbformat": 4,
 "nbformat_minor": 2
}
