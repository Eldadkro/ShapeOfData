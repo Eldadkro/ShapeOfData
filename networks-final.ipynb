{
 "cells": [
  {
   "cell_type": "markdown",
   "metadata": {},
   "source": [
    "# final network test runs\n",
    "## networks\n",
    "* animal social: [mammalia dolphins](https://networkrepository.com/mammalia-dolphin-florida-overall.php)\n",
    "* biological: [gene functial RNAi](https://networkrepository.com/bio-SC-TS.php)\n",
    "* brain: [mouse brain](https://networkrepository.com/bn-mouse-brain-1.php)\n",
    "* chemical: [enzymes](https://networkrepository.com/ENZYMES-g296.php)\n",
    "* economics: [mbeuse](https://networkrepository.com/econ-mbeause.php)"
   ]
  },
  {
   "cell_type": "code",
   "execution_count": 1,
   "metadata": {},
   "outputs": [
    {
     "name": "stdout",
     "output_type": "stream",
     "text": [
      "hello worlsd\n",
      " 304278004800\n"
     ]
    }
   ],
   "source": [
    "import scipy.sparse as sparse\n",
    "import scipy.io as sio\n",
    "import scipy.stats as stats\n",
    "import numpy as np\n",
    "import networkx as nx\n",
    "import matplotlib.pyplot as plt\n",
    "from time import time\n",
    "import pandas as pd\n",
    "# own code\n",
    "import libarary.graph_tools as gtl\n",
    "import libarary.invarients as inva\n",
    "import libarary.cpp as cpp\n",
    "cpp.test()"
   ]
  },
  {
   "cell_type": "code",
   "execution_count": 2,
   "metadata": {},
   "outputs": [],
   "source": [
    "def test(G: nx.Graph):\n",
    "    print(\"|V| = \", G.number_of_nodes())\n",
    "    res = {}\n",
    "    clocks = []\n",
    "    start = time()\n",
    "    #convert\n",
    "    dists = gtl.convert_dist_dict_to_narray(\n",
    "        dict(nx.all_pairs_dijkstra_path_length(G)), list(G.nodes)\n",
    "    )\n",
    "    end = time()\n",
    "    clocks.append(end - start)\n",
    "    print(\"clock convert: \", clocks[-1])\n",
    "    #q-extend3\n",
    "    res[\"q_ext3_multi\"] = cpp.q_extend_multi(dists, 3)\n",
    "    end = time()\n",
    "    clocks.append(end - start)\n",
    "    print(\"clock q_extend 3 multi: \", clocks[-1], res[\"q_ext3_multi\"] )\n",
    "    #q-extend4\n",
    "    start = time()\n",
    "    res[\"q_ext4_multi\"] = cpp.q_extend_multi(dists, 4)\n",
    "    end = time()\n",
    "    clocks.append(end - start)\n",
    "    print(\"clock q_extend 4 multi: \", clocks[-1], res[\"q_ext4_multi\"])\n",
    "    #excess\n",
    "    start = time()\n",
    "    res[\"excess\"] = cpp.excess_global_single(dists)\n",
    "    end = time()\n",
    "    clocks.append(end - start)\n",
    "    print(\"clock excess_global single: \", clocks[-1], res[\"excess\"])\n",
    "    #q-packing3\n",
    "    start = time()\n",
    "    res[\"q_packing3_multi\"] = cpp.q_packing_multi(dists, 3)\n",
    "    end = time()\n",
    "    clocks.append(end - start)\n",
    "    print(\"clock q_packing 3 ,multi: \", clocks[-1], res[\"q_packing3_multi\"])\n",
    "    #q-packing4\n",
    "    start = time()\n",
    "    res[\"q_packing4_multi\"] = cpp.q_packing_multi(dists, 4)\n",
    "    end = time()\n",
    "    clocks.append(end - start)\n",
    "    print(\"clock q_packing 4 ,multi: \", clocks[-1], res[\"q_packing4_multi\"])\n",
    "    return res\n",
    "res = {}"
   ]
  },
  {
   "cell_type": "code",
   "execution_count": 3,
   "metadata": {},
   "outputs": [],
   "source": [
    "locations_edgelist = [\"networks-final/ENZYMES_g296.edges\",\n",
    "                 \"networks-final/bio-SC-TS.edges\",\n",
    "                 \"networks-final/bn-mouse_brain_1.edges\",\n",
    "                 \"networks-final/mammalia-dolphin-florida-overall.edges\"\n",
    "                 ]\n",
    "locations_mm = [\"networks-final/econ-mbeause.mtx\"]\n",
    "\n"
   ]
  },
  {
   "cell_type": "code",
   "execution_count": 4,
   "metadata": {},
   "outputs": [
    {
     "name": "stdout",
     "output_type": "stream",
     "text": [
      "|V| =  125\n",
      "clock convert:  0.00799560546875\n",
      "clock q_extend 3 multi:  0.02150583267211914 0.0034193548387096775\n",
      "clock q_extend 4 multi:  1.6106436252593994 0.005419354838709678\n",
      "clock excess_global single:  0.061754703521728516 62.0\n",
      "clock q_packing 3 ,multi:  0.010320663452148438 0.75\n",
      "clock q_packing 4 ,multi:  1.4761097431182861 2.25\n",
      "|V| =  636\n",
      "clock convert:  0.04023122787475586\n",
      "clock q_extend 3 multi:  1.1593546867370605 4.9522111622839596e-06\n",
      "clock q_extend 4 multi:  826.6379249095917 7.42831674342594e-06\n",
      "clock excess_global single:  4.294851779937744 19.0\n",
      "clock q_packing 3 ,multi:  1.2692067623138428 0.25\n",
      "clock q_packing 4 ,multi:  974.2342658042908 0.25\n",
      "|V| =  213\n",
      "clock convert:  0.5330617427825928\n",
      "clock q_extend 3 multi:  0.5780143737792969 8.858180529719195e-05\n",
      "clock q_extend 4 multi:  12.633637189865112 0.00013287270794578793\n",
      "clock excess_global single:  0.28855204582214355 3.0\n",
      "clock q_packing 3 ,multi:  0.054257869720458984 0.5\n",
      "clock q_packing 4 ,multi:  11.689279794692993 0.5\n",
      "|V| =  291\n",
      "clock convert:  0.1778426170349121\n",
      "clock q_extend 3 multi:  0.31022095680236816 0.000130347197535253\n",
      "clock q_extend 4 multi:  43.34250283241272 0.00020144566891811826\n",
      "clock excess_global single:  0.7390320301055908 11.0\n",
      "clock q_packing 3 ,multi:  0.13843131065368652 1.25\n",
      "clock q_packing 4 ,multi:  44.71739888191223 1.25\n"
     ]
    }
   ],
   "source": [
    "for edgelist in locations_edgelist:\n",
    "    G = gtl.read_graph_from_edgelist(edgelist)\n",
    "    res[edgelist] = test(G)"
   ]
  },
  {
   "cell_type": "code",
   "execution_count": 11,
   "metadata": {},
   "outputs": [
    {
     "name": "stdout",
     "output_type": "stream",
     "text": [
      "|V| =  496\n",
      "clock convert:  3.7989890575408936\n",
      "clock q_extend 3 multi:  4.422344207763672 5.70218179374389e-06\n",
      "clock q_extend 4 multi:  382.845232963562 8.553272816878463e-06\n",
      "clock excess_global single:  3.688793897628784 1.199999684\n",
      "clock q_packing 3 ,multi:  0.6045982837677002 0.074999973\n",
      "clock q_packing 4 ,multi:  401.35558009147644 0.074999973\n"
     ]
    }
   ],
   "source": [
    "mm = locations_mm[0]\n",
    "tmpMM = sio.mmread(mm)\n",
    "G_tmp = nx.from_scipy_sparse_array(tmpMM)\n",
    "\n",
    "narray = nx.to_numpy_array(G_tmp)\n",
    "narray = np.abs(narray)\n",
    "G = nx.from_numpy_array(narray)\n",
    "res[mm] = test(G)\n"
   ]
  },
  {
   "cell_type": "code",
   "execution_count": 12,
   "metadata": {},
   "outputs": [
    {
     "data": {
      "text/html": [
       "<div>\n",
       "<style scoped>\n",
       "    .dataframe tbody tr th:only-of-type {\n",
       "        vertical-align: middle;\n",
       "    }\n",
       "\n",
       "    .dataframe tbody tr th {\n",
       "        vertical-align: top;\n",
       "    }\n",
       "\n",
       "    .dataframe thead th {\n",
       "        text-align: right;\n",
       "    }\n",
       "</style>\n",
       "<table border=\"1\" class=\"dataframe\">\n",
       "  <thead>\n",
       "    <tr style=\"text-align: right;\">\n",
       "      <th></th>\n",
       "      <th>networks-final/ENZYMES_g296.edges</th>\n",
       "      <th>networks-final/bio-SC-TS.edges</th>\n",
       "      <th>networks-final/bn-mouse_brain_1.edges</th>\n",
       "      <th>networks-final/mammalia-dolphin-florida-overall.edges</th>\n",
       "      <th>networks-final/econ-mbeause.mtx</th>\n",
       "    </tr>\n",
       "  </thead>\n",
       "  <tbody>\n",
       "    <tr>\n",
       "      <th>q_ext3_multi</th>\n",
       "      <td>0.003419</td>\n",
       "      <td>0.000005</td>\n",
       "      <td>0.000089</td>\n",
       "      <td>0.000130</td>\n",
       "      <td>0.000006</td>\n",
       "    </tr>\n",
       "    <tr>\n",
       "      <th>q_ext4_multi</th>\n",
       "      <td>0.005419</td>\n",
       "      <td>0.000007</td>\n",
       "      <td>0.000133</td>\n",
       "      <td>0.000201</td>\n",
       "      <td>0.000009</td>\n",
       "    </tr>\n",
       "    <tr>\n",
       "      <th>excess</th>\n",
       "      <td>62.000000</td>\n",
       "      <td>19.000000</td>\n",
       "      <td>3.000000</td>\n",
       "      <td>11.000000</td>\n",
       "      <td>1.200000</td>\n",
       "    </tr>\n",
       "    <tr>\n",
       "      <th>q_packing3_multi</th>\n",
       "      <td>0.750000</td>\n",
       "      <td>0.250000</td>\n",
       "      <td>0.500000</td>\n",
       "      <td>1.250000</td>\n",
       "      <td>0.075000</td>\n",
       "    </tr>\n",
       "    <tr>\n",
       "      <th>q_packing4_multi</th>\n",
       "      <td>2.250000</td>\n",
       "      <td>0.250000</td>\n",
       "      <td>0.500000</td>\n",
       "      <td>1.250000</td>\n",
       "      <td>0.075000</td>\n",
       "    </tr>\n",
       "  </tbody>\n",
       "</table>\n",
       "</div>"
      ],
      "text/plain": [
       "                  networks-final/ENZYMES_g296.edges  \\\n",
       "q_ext3_multi                               0.003419   \n",
       "q_ext4_multi                               0.005419   \n",
       "excess                                    62.000000   \n",
       "q_packing3_multi                           0.750000   \n",
       "q_packing4_multi                           2.250000   \n",
       "\n",
       "                  networks-final/bio-SC-TS.edges  \\\n",
       "q_ext3_multi                            0.000005   \n",
       "q_ext4_multi                            0.000007   \n",
       "excess                                 19.000000   \n",
       "q_packing3_multi                        0.250000   \n",
       "q_packing4_multi                        0.250000   \n",
       "\n",
       "                  networks-final/bn-mouse_brain_1.edges  \\\n",
       "q_ext3_multi                                   0.000089   \n",
       "q_ext4_multi                                   0.000133   \n",
       "excess                                         3.000000   \n",
       "q_packing3_multi                               0.500000   \n",
       "q_packing4_multi                               0.500000   \n",
       "\n",
       "                  networks-final/mammalia-dolphin-florida-overall.edges  \\\n",
       "q_ext3_multi                                               0.000130       \n",
       "q_ext4_multi                                               0.000201       \n",
       "excess                                                    11.000000       \n",
       "q_packing3_multi                                           1.250000       \n",
       "q_packing4_multi                                           1.250000       \n",
       "\n",
       "                  networks-final/econ-mbeause.mtx  \n",
       "q_ext3_multi                             0.000006  \n",
       "q_ext4_multi                             0.000009  \n",
       "excess                                   1.200000  \n",
       "q_packing3_multi                         0.075000  \n",
       "q_packing4_multi                         0.075000  "
      ]
     },
     "execution_count": 12,
     "metadata": {},
     "output_type": "execute_result"
    }
   ],
   "source": [
    "df = pd.DataFrame(res)\n",
    "df.to_csv(\"results/networks-final.csv\")\n",
    "df"
   ]
  },
  {
   "cell_type": "code",
   "execution_count": 3,
   "metadata": {},
   "outputs": [],
   "source": [
    "G = gtl.read_graph_from_edgelist(\"networks-final/ENZYMES_g296.edges\")\n",
    "dists = gtl.convert_dist_dict_to_narray(\n",
    "        dict(nx.all_pairs_dijkstra_path_length(G)), list(G.nodes)\n",
    "    )\n",
    "ext5 = cpp.q_extend_multi(dists,5)"
   ]
  },
  {
   "cell_type": "code",
   "execution_count": 4,
   "metadata": {},
   "outputs": [
    {
     "name": "stdout",
     "output_type": "stream",
     "text": [
      "0.007419354838709678\n"
     ]
    }
   ],
   "source": [
    "print(ext5)"
   ]
  },
  {
   "cell_type": "code",
   "execution_count": 5,
   "metadata": {},
   "outputs": [],
   "source": [
    "packing5 = cpp.q_packing_multi(dists,5)\n"
   ]
  },
  {
   "cell_type": "code",
   "execution_count": 6,
   "metadata": {},
   "outputs": [
    {
     "name": "stdout",
     "output_type": "stream",
     "text": [
      "4.25\n"
     ]
    }
   ],
   "source": [
    "print(packing5)"
   ]
  }
 ],
 "metadata": {
  "kernelspec": {
   "display_name": "Python 3",
   "language": "python",
   "name": "python3"
  },
  "language_info": {
   "codemirror_mode": {
    "name": "ipython",
    "version": 3
   },
   "file_extension": ".py",
   "mimetype": "text/x-python",
   "name": "python",
   "nbconvert_exporter": "python",
   "pygments_lexer": "ipython3",
   "version": "3.11.4"
  },
  "orig_nbformat": 4
 },
 "nbformat": 4,
 "nbformat_minor": 2
}
