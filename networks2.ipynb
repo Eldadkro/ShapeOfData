{
 "cells": [
  {
   "cell_type": "code",
   "execution_count": 1,
   "metadata": {},
   "outputs": [],
   "source": [
    "import scipy.sparse as sparse\n",
    "import scipy.io as sio\n",
    "import scipy.stats as stats\n",
    "import numpy as np\n",
    "import networkx as nx\n",
    "import matplotlib.pyplot as plt\n",
    "from time import time\n",
    "import pandas as pd\n",
    "# own code\n",
    "import libarary.graph_tools as gtl\n",
    "import libarary.invarients as inva\n",
    "import libarary.cpp as cpp\n"
   ]
  },
  {
   "cell_type": "code",
   "execution_count": 2,
   "metadata": {},
   "outputs": [],
   "source": [
    "def test(G: nx.Graph):\n",
    "    clocks = []\n",
    "    start = time()\n",
    "    dists = gtl.convert_dist_dict_to_narray(\n",
    "        dict(nx.all_pairs_dijkstra_path_length(G)), list(G.nodes)\n",
    "    )\n",
    "    end = time()\n",
    "    clocks.append(end - start)\n",
    "    print(\"clock convert: \", clocks[-1])\n",
    "    # start = time()\n",
    "    # q_ext3_multi = cpp.q_extend_multi(dists, 3)\n",
    "    # end = time()\n",
    "    # clocks.append(end - start)\n",
    "    # print(\"clock q_extend 3 multi: \", clocks[-1], q_ext3_multi)\n",
    "    # q_ext5_multi = cpp.q_extend_multi(dists, 5)\n",
    "    # end = time()\n",
    "    # clocks.append(end - start)\n",
    "    # print(\"clock q_extend 5 multi: \", clocks[-1], q_ext5_multi)\n",
    "    # start = time()\n",
    "    # excess = cpp.excess_global_single(dists)\n",
    "    # end = time()\n",
    "    # clocks.append(end - start)\n",
    "    # print(\"clock excess_global single: \", clocks[-1], excess)\n",
    "    start = time()\n",
    "    q_packing3_multi = cpp.q_packing_multi(dists, 3)\n",
    "    end = time()\n",
    "    clocks.append(end - start)\n",
    "    print(\"clock q_packing 3 ,multi: \", clocks[-1], q_packing3_multi)\n",
    "    start = time()\n",
    "    q_packing3 = cpp.q_packing_single(dists, 3)\n",
    "    end = time()\n",
    "    clocks.append(end - start)\n",
    "    print(\"clock q_packing 3 ,single: \", clocks[-1], q_packing3)\n",
    "\n",
    "    \n",
    "    res = {\n",
    "        \"|V|\": G.number_of_nodes(),\n",
    "        # \"q-extend3Multi\": q_ext3_multi,\n",
    "        # \"q-extend3Multi\": q_ext5_multi,\n",
    "        # \"excess-globalSingle\": excess,\n",
    "        \"q-packing3Single\": q_packing3,\n",
    "        \"q-packing3Multi\": q_packing3_multi,\n",
    "\n",
    "    }\n",
    "    return res\n",
    "res = {}"
   ]
  },
  {
   "cell_type": "code",
   "execution_count": 3,
   "metadata": {},
   "outputs": [
    {
     "name": "stdout",
     "output_type": "stream",
     "text": [
      "nodes:  453\n",
      "clock convert:  0.24381041526794434\n",
      "clock q_extend3 single:  8.076982259750366 0.00013674812948094318\n",
      "clock excess_global single:  3.522691249847412 13.0\n",
      "clock q_packing single:  7.884350061416626 0.5\n",
      "clock q_extend single:  0.4706764221191406 0.00013674812948094318\n"
     ]
    }
   ],
   "source": [
    "g_bio_453 = gtl.read_graph_from_edgelist(\"networks2/bio-celegans-dir/bio-celegans-dir.edges\")\n",
    "print(\"nodes: \", g_bio_453.number_of_nodes())\n",
    "res[\"bio_453\"] = test(g_bio_453)"
   ]
  },
  {
   "cell_type": "code",
   "execution_count": 4,
   "metadata": {},
   "outputs": [
    {
     "name": "stdout",
     "output_type": "stream",
     "text": [
      "clock convert:  0.3212735652923584\n",
      "clock q_extend3 single:  4.6191017627716064 0.0004746548282168335\n",
      "clock excess_global single:  2.0996625423431396 33.0\n",
      "clock q_packing single:  4.539488792419434 0.5\n",
      "clock q_extend single:  0.2966909408569336 0.0004746548282168335\n"
     ]
    }
   ],
   "source": [
    "mm_ca = sio.mmread(\"networks2/ca-graph/ca-netscience.mtx\")\n",
    "g_ca : nx.Graph =  nx.from_scipy_sparse_array(mm_ca)\n",
    "res[\"ca\"] = test(g_ca)"
   ]
  },
  {
   "cell_type": "code",
   "execution_count": 5,
   "metadata": {},
   "outputs": [
    {
     "name": "stdout",
     "output_type": "stream",
     "text": [
      "clock convert:  0.3167872428894043\n",
      "clock q_extend3 single:  4.63358211517334 0.0004746548282168335\n",
      "clock excess_global single:  2.101231098175049 33.0\n",
      "clock q_packing single:  4.529152870178223 0.5\n",
      "clock q_extend single:  0.29967188835144043 0.0004746548282168335\n"
     ]
    }
   ],
   "source": [
    "mm_brok = sio.mmread(\"networks2/brok/brock200-4.mtx\")\n",
    "g_brok : nx.Graph =  nx.from_scipy_sparse_array(mm_ca)\n",
    "res[\"brok\"] = test(g_brok)"
   ]
  },
  {
   "cell_type": "code",
   "execution_count": 6,
   "metadata": {},
   "outputs": [
    {
     "data": {
      "text/html": [
       "<div>\n",
       "<style scoped>\n",
       "    .dataframe tbody tr th:only-of-type {\n",
       "        vertical-align: middle;\n",
       "    }\n",
       "\n",
       "    .dataframe tbody tr th {\n",
       "        vertical-align: top;\n",
       "    }\n",
       "\n",
       "    .dataframe thead th {\n",
       "        text-align: right;\n",
       "    }\n",
       "</style>\n",
       "<table border=\"1\" class=\"dataframe\">\n",
       "  <thead>\n",
       "    <tr style=\"text-align: right;\">\n",
       "      <th></th>\n",
       "      <th>bio_453</th>\n",
       "      <th>ca</th>\n",
       "      <th>brok</th>\n",
       "    </tr>\n",
       "  </thead>\n",
       "  <tbody>\n",
       "    <tr>\n",
       "      <th>|V|</th>\n",
       "      <td>453.000000</td>\n",
       "      <td>379.000000</td>\n",
       "      <td>379.000000</td>\n",
       "    </tr>\n",
       "    <tr>\n",
       "      <th>q-extend3Single</th>\n",
       "      <td>0.000137</td>\n",
       "      <td>0.000475</td>\n",
       "      <td>0.000475</td>\n",
       "    </tr>\n",
       "    <tr>\n",
       "      <th>q-extend3Multi</th>\n",
       "      <td>0.000137</td>\n",
       "      <td>0.000475</td>\n",
       "      <td>0.000475</td>\n",
       "    </tr>\n",
       "    <tr>\n",
       "      <th>excess-globalSingle</th>\n",
       "      <td>13.000000</td>\n",
       "      <td>33.000000</td>\n",
       "      <td>33.000000</td>\n",
       "    </tr>\n",
       "    <tr>\n",
       "      <th>q-packing3Single</th>\n",
       "      <td>0.500000</td>\n",
       "      <td>0.500000</td>\n",
       "      <td>0.500000</td>\n",
       "    </tr>\n",
       "  </tbody>\n",
       "</table>\n",
       "</div>"
      ],
      "text/plain": [
       "                        bio_453          ca        brok\n",
       "|V|                  453.000000  379.000000  379.000000\n",
       "q-extend3Single        0.000137    0.000475    0.000475\n",
       "q-extend3Multi         0.000137    0.000475    0.000475\n",
       "excess-globalSingle   13.000000   33.000000   33.000000\n",
       "q-packing3Single       0.500000    0.500000    0.500000"
      ]
     },
     "execution_count": 6,
     "metadata": {},
     "output_type": "execute_result"
    }
   ],
   "source": [
    "pd.DataFrame(res)"
   ]
  }
 ],
 "metadata": {
  "kernelspec": {
   "display_name": "Python 3",
   "language": "python",
   "name": "python3"
  },
  "language_info": {
   "codemirror_mode": {
    "name": "ipython",
    "version": 3
   },
   "file_extension": ".py",
   "mimetype": "text/x-python",
   "name": "python",
   "nbconvert_exporter": "python",
   "pygments_lexer": "ipython3",
   "version": "3.11.4"
  },
  "orig_nbformat": 4
 },
 "nbformat": 4,
 "nbformat_minor": 2
}
