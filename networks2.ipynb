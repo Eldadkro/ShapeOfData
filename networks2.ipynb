{
 "cells": [
  {
   "cell_type": "code",
   "execution_count": 5,
   "metadata": {},
   "outputs": [
    {
     "name": "stdout",
     "output_type": "stream",
     "text": [
      "hello worlsd\n",
      " 304278004800\n"
     ]
    }
   ],
   "source": [
    "import scipy.sparse as sparse\n",
    "import scipy.io as sio\n",
    "import scipy.stats as stats\n",
    "import numpy as np\n",
    "import networkx as nx\n",
    "import matplotlib.pyplot as plt\n",
    "from time import time\n",
    "import pandas as pd\n",
    "# own code\n",
    "import libarary.graph_tools as gtl\n",
    "import libarary.invarients as inva\n",
    "import libarary.cpp as cpp\n",
    "cpp.test()"
   ]
  },
  {
   "cell_type": "code",
   "execution_count": 6,
   "metadata": {},
   "outputs": [],
   "source": [
    "def test(G: nx.Graph):\n",
    "    print(\"|V| = \", G.number_of_nodes())\n",
    "    res = {}\n",
    "    clocks = []\n",
    "    start = time()\n",
    "    #convert\n",
    "    dists = gtl.convert_dist_dict_to_narray(\n",
    "        dict(nx.all_pairs_dijkstra_path_length(G)), list(G.nodes)\n",
    "    )\n",
    "    end = time()\n",
    "    clocks.append(end - start)\n",
    "    print(\"clock convert: \", clocks[-1])\n",
    "    #q-extend3\n",
    "    res[\"q_ext3_multi\"] = cpp.q_extend_multi(dists, 3)\n",
    "    end = time()\n",
    "    clocks.append(end - start)\n",
    "    print(\"clock q_extend 3 multi: \", clocks[-1], res[\"q_ext3_multi\"] )\n",
    "    #q-extend4\n",
    "    start = time()\n",
    "    res[\"q_ext4_multi\"] = cpp.q_extend_multi(dists, 4)\n",
    "    end = time()\n",
    "    clocks.append(end - start)\n",
    "    print(\"clock q_extend 4 multi: \", clocks[-1], res[\"q_ext4_multi\"])\n",
    "    #excess\n",
    "    start = time()\n",
    "    res[\"excess\"] = cpp.excess_global_single(dists)\n",
    "    end = time()\n",
    "    clocks.append(end - start)\n",
    "    print(\"clock excess_global single: \", clocks[-1], res[\"excess\"])\n",
    "    #q-packing3\n",
    "    start = time()\n",
    "    res[\"q_packing3_multi\"] = cpp.q_packing_multi(dists, 3)\n",
    "    end = time()\n",
    "    clocks.append(end - start)\n",
    "    print(\"clock q_packing 3 ,multi: \", clocks[-1], res[\"q_packing3_multi\"])\n",
    "    #q-packing4\n",
    "    start = time()\n",
    "    res[\"q_packing4_multi\"] = cpp.q_packing_multi(dists, 4)\n",
    "    end = time()\n",
    "    clocks.append(end - start)\n",
    "    print(\"clock q_packing 4 ,multi: \", clocks[-1], res[\"q_packing4_multi\"])\n",
    "    return res\n",
    "res = {}"
   ]
  },
  {
   "cell_type": "code",
   "execution_count": 7,
   "metadata": {},
   "outputs": [
    {
     "name": "stdout",
     "output_type": "stream",
     "text": [
      "nodes:  636\n",
      "|V| =  636\n",
      "clock convert:  0.0426487922668457\n",
      "clock q_extend 3 multi:  1.254302740097046 4.9522111622839596e-06\n",
      "clock q_extend 4 multi:  808.7499356269836 7.42831674342594e-06\n",
      "clock excess_global single:  4.492594003677368 19.0\n",
      "clock q_packing 3 ,multi:  1.2123682498931885 0.25\n",
      "clock q_packing 4 ,multi:  953.6601314544678 0.25\n"
     ]
    }
   ],
   "source": [
    "g_bio_weighted = gtl.read_graph_from_edgelist(\"networks2/bio-weighted-636/bio-SC-TS.edges\")\n",
    "print(\"nodes: \", g_bio_weighted.number_of_nodes())\n",
    "res[\"bio-weighted\"] = test(g_bio_weighted)"
   ]
  },
  {
   "cell_type": "code",
   "execution_count": 8,
   "metadata": {},
   "outputs": [
    {
     "name": "stdout",
     "output_type": "stream",
     "text": [
      "nodes:  453\n",
      "|V| =  453\n",
      "clock convert:  0.25521063804626465\n",
      "clock q_extend 3 multi:  0.7035748958587646 5.86063412061185e-05\n",
      "clock q_extend 4 multi:  265.25879287719727 9.279337357635429e-05\n",
      "clock excess_global single:  2.947018623352051 13.0\n",
      "clock q_packing 3 ,multi:  0.43643760681152344 0.25\n",
      "clock q_packing 4 ,multi:  264.9243381023407 0.25\n"
     ]
    }
   ],
   "source": [
    "g_bio_453 = gtl.read_graph_from_edgelist(\"networks2/bio-celegans-dir/bio-celegans-dir.edges\")\n",
    "print(\"nodes: \", g_bio_453.number_of_nodes())\n",
    "res[\"bio_453\"] = test(g_bio_453)"
   ]
  },
  {
   "cell_type": "code",
   "execution_count": 9,
   "metadata": {},
   "outputs": [
    {
     "name": "stdout",
     "output_type": "stream",
     "text": [
      "|V| =  379\n",
      "clock convert:  0.3329899311065674\n",
      "clock q_extend 3 multi:  0.6121599674224854 0.0001954461057363432\n",
      "clock q_extend 4 multi:  127.59445714950562 0.0003071295947285393\n",
      "clock excess_global single:  1.8032777309417725 33.0\n",
      "clock q_packing 3 ,multi:  0.2673029899597168 0.25\n",
      "clock q_packing 4 ,multi:  129.4503312110901 0.5\n"
     ]
    }
   ],
   "source": [
    "mm_ca = sio.mmread(\"networks2/ca-graph/ca-netscience.mtx\")\n",
    "g_ca : nx.Graph =  nx.from_scipy_sparse_array(mm_ca)\n",
    "\n",
    "res[\"ca\"] = test(g_ca)"
   ]
  },
  {
   "cell_type": "code",
   "execution_count": 10,
   "metadata": {},
   "outputs": [
    {
     "name": "stdout",
     "output_type": "stream",
     "text": [
      "|V| =  379\n",
      "clock convert:  0.3298006057739258\n",
      "clock q_extend 3 multi:  0.623042106628418 0.0001954461057363432\n",
      "clock q_extend 4 multi:  127.71842765808105 0.0003071295947285393\n",
      "clock excess_global single:  1.7126765251159668 33.0\n",
      "clock q_packing 3 ,multi:  0.28475260734558105 0.25\n",
      "clock q_packing 4 ,multi:  136.06236863136292 0.5\n"
     ]
    }
   ],
   "source": [
    "mm_brok = sio.mmread(\"networks2/brok/brock200-4.mtx\")\n",
    "g_brok : nx.Graph =  nx.from_scipy_sparse_array(mm_ca)\n",
    "res[\"brok\"] = test(g_brok)"
   ]
  },
  {
   "cell_type": "code",
   "execution_count": 11,
   "metadata": {},
   "outputs": [
    {
     "data": {
      "text/html": [
       "<div>\n",
       "<style scoped>\n",
       "    .dataframe tbody tr th:only-of-type {\n",
       "        vertical-align: middle;\n",
       "    }\n",
       "\n",
       "    .dataframe tbody tr th {\n",
       "        vertical-align: top;\n",
       "    }\n",
       "\n",
       "    .dataframe thead th {\n",
       "        text-align: right;\n",
       "    }\n",
       "</style>\n",
       "<table border=\"1\" class=\"dataframe\">\n",
       "  <thead>\n",
       "    <tr style=\"text-align: right;\">\n",
       "      <th></th>\n",
       "      <th>bio-weighted</th>\n",
       "      <th>bio_453</th>\n",
       "      <th>ca</th>\n",
       "      <th>brok</th>\n",
       "    </tr>\n",
       "  </thead>\n",
       "  <tbody>\n",
       "    <tr>\n",
       "      <th>q_ext3_multi</th>\n",
       "      <td>0.000005</td>\n",
       "      <td>0.000059</td>\n",
       "      <td>0.000195</td>\n",
       "      <td>0.000195</td>\n",
       "    </tr>\n",
       "    <tr>\n",
       "      <th>q_ext4_multi</th>\n",
       "      <td>0.000007</td>\n",
       "      <td>0.000093</td>\n",
       "      <td>0.000307</td>\n",
       "      <td>0.000307</td>\n",
       "    </tr>\n",
       "    <tr>\n",
       "      <th>excess</th>\n",
       "      <td>19.000000</td>\n",
       "      <td>13.000000</td>\n",
       "      <td>33.000000</td>\n",
       "      <td>33.000000</td>\n",
       "    </tr>\n",
       "    <tr>\n",
       "      <th>q_packing3_multi</th>\n",
       "      <td>0.250000</td>\n",
       "      <td>0.250000</td>\n",
       "      <td>0.250000</td>\n",
       "      <td>0.250000</td>\n",
       "    </tr>\n",
       "    <tr>\n",
       "      <th>q_packing4_multi</th>\n",
       "      <td>0.250000</td>\n",
       "      <td>0.250000</td>\n",
       "      <td>0.500000</td>\n",
       "      <td>0.500000</td>\n",
       "    </tr>\n",
       "  </tbody>\n",
       "</table>\n",
       "</div>"
      ],
      "text/plain": [
       "                  bio-weighted    bio_453         ca       brok\n",
       "q_ext3_multi          0.000005   0.000059   0.000195   0.000195\n",
       "q_ext4_multi          0.000007   0.000093   0.000307   0.000307\n",
       "excess               19.000000  13.000000  33.000000  33.000000\n",
       "q_packing3_multi      0.250000   0.250000   0.250000   0.250000\n",
       "q_packing4_multi      0.250000   0.250000   0.500000   0.500000"
      ]
     },
     "execution_count": 11,
     "metadata": {},
     "output_type": "execute_result"
    }
   ],
   "source": [
    "pd.DataFrame(res)"
   ]
  },
  {
   "cell_type": "code",
   "execution_count": 12,
   "metadata": {},
   "outputs": [],
   "source": [
    "df = pd.DataFrame(res)\n",
    "df.to_csv(\"results/res2.csv\")"
   ]
  }
 ],
 "metadata": {
  "kernelspec": {
   "display_name": "Python 3",
   "language": "python",
   "name": "python3"
  },
  "language_info": {
   "codemirror_mode": {
    "name": "ipython",
    "version": 3
   },
   "file_extension": ".py",
   "mimetype": "text/x-python",
   "name": "python",
   "nbconvert_exporter": "python",
   "pygments_lexer": "ipython3",
   "version": "3.11.4"
  },
  "orig_nbformat": 4
 },
 "nbformat": 4,
 "nbformat_minor": 2
}
